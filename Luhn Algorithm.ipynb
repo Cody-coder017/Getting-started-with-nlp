{
 "cells": [
  {
   "cell_type": "markdown",
   "id": "56d05fa3",
   "metadata": {},
   "source": [
    "# Preparing the environment"
   ]
  },
  {
   "cell_type": "code",
   "execution_count": 1,
   "id": "f4738b76",
   "metadata": {},
   "outputs": [],
   "source": [
    "import re\n",
    "import nltk\n",
    "import string\n",
    "import heapq"
   ]
  },
  {
   "cell_type": "code",
   "execution_count": 2,
   "id": "9240dc62",
   "metadata": {},
   "outputs": [
    {
     "name": "stderr",
     "output_type": "stream",
     "text": [
      "[nltk_data] Downloading package punkt to\n",
      "[nltk_data]     C:\\Users\\ADMIN\\AppData\\Roaming\\nltk_data...\n",
      "[nltk_data]   Package punkt is already up-to-date!\n"
     ]
    },
    {
     "data": {
      "text/plain": [
       "True"
      ]
     },
     "execution_count": 2,
     "metadata": {},
     "output_type": "execute_result"
    }
   ],
   "source": [
    "nltk.download('punkt')"
   ]
  },
  {
   "cell_type": "code",
   "execution_count": 3,
   "id": "5c547688",
   "metadata": {},
   "outputs": [
    {
     "name": "stderr",
     "output_type": "stream",
     "text": [
      "[nltk_data] Downloading package stopwords to\n",
      "[nltk_data]     C:\\Users\\ADMIN\\AppData\\Roaming\\nltk_data...\n",
      "[nltk_data]   Package stopwords is already up-to-date!\n"
     ]
    },
    {
     "data": {
      "text/plain": [
       "True"
      ]
     },
     "execution_count": 3,
     "metadata": {},
     "output_type": "execute_result"
    }
   ],
   "source": [
    "nltk.download('stopwords')"
   ]
  },
  {
   "cell_type": "code",
   "execution_count": 4,
   "id": "bf091072",
   "metadata": {},
   "outputs": [
    {
     "data": {
      "text/plain": [
       "'Most people are not very familiar with the concept of artificial intelligence (AI). As an illustration, when 1,500 senior business leaders in the United States in 2017 were asked about AI, only 17 percent said they were familiar with it.A number of them were not su\\n                re what it was or how it would affect their particular companies. They understood there was considerable potential for altering business processes, but were not clear how AI could be deployed within their own organizations.\\n                Despite its widespread lack of familiarity, AI is a technology that is transforming every walk of life. It is a wide-ranging tool that enables people to rethink how we integrate information, analyze data, and use the resulting insights to improve decisionmaking. \\n                our hope through this comprehensive overview is to explain AI to an audience of policymakers, opinion leaders, and interested observers, and demonstrate how AI already is altering the world and raising important questions for society, the economy, and governance.\\n                In this paper, we discuss novel applications in finance, national security, health care, criminal justice, transportation, and smart cities, and address issues such as data access problems, algorithmic bias, AI ethics and transparency, and legal liability for AI decisions. We contrast the regulatory approaches of the U.S. and European Union, and close by making a number of recommendations for getting the most out of AI while still protecting important human values'"
      ]
     },
     "execution_count": 4,
     "metadata": {},
     "output_type": "execute_result"
    }
   ],
   "source": [
    "original_text=\"\"\"Most people are not very familiar with the concept of artificial intelligence (AI). As an illustration, when 1,500 senior business leaders in the United States in 2017 were asked about AI, only 17 percent said they were familiar with it.A number of them were not su\n",
    "                re what it was or how it would affect their particular companies. They understood there was considerable potential for altering business processes, but were not clear how AI could be deployed within their own organizations.\n",
    "                Despite its widespread lack of familiarity, AI is a technology that is transforming every walk of life. It is a wide-ranging tool that enables people to rethink how we integrate information, analyze data, and use the resulting insights to improve decisionmaking. \n",
    "                our hope through this comprehensive overview is to explain AI to an audience of policymakers, opinion leaders, and interested observers, and demonstrate how AI already is altering the world and raising important questions for society, the economy, and governance.\n",
    "                In this paper, we discuss novel applications in finance, national security, health care, criminal justice, transportation, and smart cities, and address issues such as data access problems, algorithmic bias, AI ethics and transparency, and legal liability for AI decisions. We contrast the regulatory approaches of the U.S. and European Union, and close by making a number of recommendations for getting the most out of AI while still protecting important human values\"\"\"\n",
    "original_text"
   ]
  },
  {
   "cell_type": "code",
   "execution_count": 5,
   "id": "ae27d318",
   "metadata": {},
   "outputs": [
    {
     "data": {
      "text/plain": [
       "'Most people are not very familiar with the concept of artificial intelligence (AI). As an illustration, when 1,500 senior business leaders in the United States in 2017 were asked about AI, only 17 percent said they were familiar with it.A number of them were not su re what it was or how it would affect their particular companies. They understood there was considerable potential for altering business processes, but were not clear how AI could be deployed within their own organizations. Despite its widespread lack of familiarity, AI is a technology that is transforming every walk of life. It is a wide-ranging tool that enables people to rethink how we integrate information, analyze data, and use the resulting insights to improve decisionmaking. our hope through this comprehensive overview is to explain AI to an audience of policymakers, opinion leaders, and interested observers, and demonstrate how AI already is altering the world and raising important questions for society, the economy, and governance. In this paper, we discuss novel applications in finance, national security, health care, criminal justice, transportation, and smart cities, and address issues such as data access problems, algorithmic bias, AI ethics and transparency, and legal liability for AI decisions. We contrast the regulatory approaches of the U.S. and European Union, and close by making a number of recommendations for getting the most out of AI while still protecting important human values'"
      ]
     },
     "execution_count": 5,
     "metadata": {},
     "output_type": "execute_result"
    }
   ],
   "source": [
    "original_text=re.sub(r'\\s+',' ',original_text)\n",
    "original_text"
   ]
  },
  {
   "cell_type": "code",
   "execution_count": 6,
   "id": "b1de3e55",
   "metadata": {},
   "outputs": [
    {
     "data": {
      "text/plain": [
       "['i',\n",
       " 'me',\n",
       " 'my',\n",
       " 'myself',\n",
       " 'we',\n",
       " 'our',\n",
       " 'ours',\n",
       " 'ourselves',\n",
       " 'you',\n",
       " \"you're\",\n",
       " \"you've\",\n",
       " \"you'll\",\n",
       " \"you'd\",\n",
       " 'your',\n",
       " 'yours',\n",
       " 'yourself',\n",
       " 'yourselves',\n",
       " 'he',\n",
       " 'him',\n",
       " 'his',\n",
       " 'himself',\n",
       " 'she',\n",
       " \"she's\",\n",
       " 'her',\n",
       " 'hers',\n",
       " 'herself',\n",
       " 'it',\n",
       " \"it's\",\n",
       " 'its',\n",
       " 'itself',\n",
       " 'they',\n",
       " 'them',\n",
       " 'their',\n",
       " 'theirs',\n",
       " 'themselves',\n",
       " 'what',\n",
       " 'which',\n",
       " 'who',\n",
       " 'whom',\n",
       " 'this',\n",
       " 'that',\n",
       " \"that'll\",\n",
       " 'these',\n",
       " 'those',\n",
       " 'am',\n",
       " 'is',\n",
       " 'are',\n",
       " 'was',\n",
       " 'were',\n",
       " 'be',\n",
       " 'been',\n",
       " 'being',\n",
       " 'have',\n",
       " 'has',\n",
       " 'had',\n",
       " 'having',\n",
       " 'do',\n",
       " 'does',\n",
       " 'did',\n",
       " 'doing',\n",
       " 'a',\n",
       " 'an',\n",
       " 'the',\n",
       " 'and',\n",
       " 'but',\n",
       " 'if',\n",
       " 'or',\n",
       " 'because',\n",
       " 'as',\n",
       " 'until',\n",
       " 'while',\n",
       " 'of',\n",
       " 'at',\n",
       " 'by',\n",
       " 'for',\n",
       " 'with',\n",
       " 'about',\n",
       " 'against',\n",
       " 'between',\n",
       " 'into',\n",
       " 'through',\n",
       " 'during',\n",
       " 'before',\n",
       " 'after',\n",
       " 'above',\n",
       " 'below',\n",
       " 'to',\n",
       " 'from',\n",
       " 'up',\n",
       " 'down',\n",
       " 'in',\n",
       " 'out',\n",
       " 'on',\n",
       " 'off',\n",
       " 'over',\n",
       " 'under',\n",
       " 'again',\n",
       " 'further',\n",
       " 'then',\n",
       " 'once',\n",
       " 'here',\n",
       " 'there',\n",
       " 'when',\n",
       " 'where',\n",
       " 'why',\n",
       " 'how',\n",
       " 'all',\n",
       " 'any',\n",
       " 'both',\n",
       " 'each',\n",
       " 'few',\n",
       " 'more',\n",
       " 'most',\n",
       " 'other',\n",
       " 'some',\n",
       " 'such',\n",
       " 'no',\n",
       " 'nor',\n",
       " 'not',\n",
       " 'only',\n",
       " 'own',\n",
       " 'same',\n",
       " 'so',\n",
       " 'than',\n",
       " 'too',\n",
       " 'very',\n",
       " 's',\n",
       " 't',\n",
       " 'can',\n",
       " 'will',\n",
       " 'just',\n",
       " 'don',\n",
       " \"don't\",\n",
       " 'should',\n",
       " \"should've\",\n",
       " 'now',\n",
       " 'd',\n",
       " 'll',\n",
       " 'm',\n",
       " 'o',\n",
       " 're',\n",
       " 've',\n",
       " 'y',\n",
       " 'ain',\n",
       " 'aren',\n",
       " \"aren't\",\n",
       " 'couldn',\n",
       " \"couldn't\",\n",
       " 'didn',\n",
       " \"didn't\",\n",
       " 'doesn',\n",
       " \"doesn't\",\n",
       " 'hadn',\n",
       " \"hadn't\",\n",
       " 'hasn',\n",
       " \"hasn't\",\n",
       " 'haven',\n",
       " \"haven't\",\n",
       " 'isn',\n",
       " \"isn't\",\n",
       " 'ma',\n",
       " 'mightn',\n",
       " \"mightn't\",\n",
       " 'mustn',\n",
       " \"mustn't\",\n",
       " 'needn',\n",
       " \"needn't\",\n",
       " 'shan',\n",
       " \"shan't\",\n",
       " 'shouldn',\n",
       " \"shouldn't\",\n",
       " 'wasn',\n",
       " \"wasn't\",\n",
       " 'weren',\n",
       " \"weren't\",\n",
       " 'won',\n",
       " \"won't\",\n",
       " 'wouldn',\n",
       " \"wouldn't\"]"
      ]
     },
     "execution_count": 6,
     "metadata": {},
     "output_type": "execute_result"
    }
   ],
   "source": [
    "stopwords=nltk.corpus.stopwords.words('english')\n",
    "stopwords"
   ]
  },
  {
   "cell_type": "code",
   "execution_count": 7,
   "id": "12314744",
   "metadata": {},
   "outputs": [
    {
     "data": {
      "text/plain": [
       "179"
      ]
     },
     "execution_count": 7,
     "metadata": {},
     "output_type": "execute_result"
    }
   ],
   "source": [
    "len(stopwords)"
   ]
  },
  {
   "cell_type": "code",
   "execution_count": 8,
   "id": "e51c6be2",
   "metadata": {},
   "outputs": [],
   "source": [
    "def preprocess(text):\n",
    "    formatted_text=text.lower()\n",
    "    tokens=[]\n",
    "    for token in nltk.word_tokenize(formatted_text):\n",
    "        tokens.append(token)\n",
    "        tokens=[word for word in tokens if word not in stopwords and word not in string.punctuation]\n",
    "        formatted_text=' '.join(element for element in tokens)\n",
    "    \n",
    "    return formatted_text"
   ]
  },
  {
   "cell_type": "code",
   "execution_count": 9,
   "id": "f85388f4",
   "metadata": {},
   "outputs": [
    {
     "data": {
      "text/plain": [
       "'people familiar concept artificial intelligence ai illustration 1,500 senior business leaders united states 2017 asked ai 17 percent said familiar it.a number su would affect particular companies understood considerable potential altering business processes clear ai could deployed within organizations despite widespread lack familiarity ai technology transforming every walk life wide-ranging tool enables people rethink integrate information analyze data use resulting insights improve decisionmaking hope comprehensive overview explain ai audience policymakers opinion leaders interested observers demonstrate ai already altering world raising important questions society economy governance paper discuss novel applications finance national security health care criminal justice transportation smart cities address issues data access problems algorithmic bias ai ethics transparency legal liability ai decisions contrast regulatory approaches u.s. european union close making number recommendations getting ai still protecting important human values'"
      ]
     },
     "execution_count": 9,
     "metadata": {},
     "output_type": "execute_result"
    }
   ],
   "source": [
    "formatted_text=preprocess(original_text)\n",
    "formatted_text"
   ]
  },
  {
   "cell_type": "markdown",
   "id": "c9300f05",
   "metadata": {},
   "source": [
    "# Function to calculate Sentence Score"
   ]
  },
  {
   "cell_type": "code",
   "execution_count": 33,
   "id": "767b29c9",
   "metadata": {},
   "outputs": [
    {
     "ename": "SyntaxError",
     "evalue": "invalid syntax (Temp/ipykernel_8904/194901150.py, line 4)",
     "output_type": "error",
     "traceback": [
      "\u001b[1;36m  File \u001b[1;32m\"C:\\Users\\ADMIN\\AppData\\Local\\Temp/ipykernel_8904/194901150.py\"\u001b[1;36m, line \u001b[1;32m4\u001b[0m\n\u001b[1;33m    for sentence in [nltk.sent_tokenize(sentence) nltk.word_tokenize(sentence) for sentence in sentences]:\u001b[0m\n\u001b[1;37m                                                  ^\u001b[0m\n\u001b[1;31mSyntaxError\u001b[0m\u001b[1;31m:\u001b[0m invalid syntax\n"
     ]
    }
   ],
   "source": [
    "def calculate_sent_score(sentences ,imp_words):\n",
    "    scores=[]\n",
    "    sentence_index=0 #indexing sentence\n",
    "    for sentence in [nltk.sent_tokenize(sentence) nltk.word_tokenize(sentence) for sentence in sentences]:\n",
    "        print('--------------')\n",
    "        print(sentence)\n",
    "        word_index=[]\n",
    "        for word in imp_words:\n",
    "            print(word)\n",
    "            try:\n",
    "                word_index.append(sentence.index(word))\n",
    "            except ValueError:\n",
    "                pass\n",
    "        print(word_index)    \n"
   ]
  },
  {
   "cell_type": "code",
   "execution_count": 29,
   "id": "153f7804",
   "metadata": {},
   "outputs": [
    {
     "data": {
      "text/plain": [
       "0"
      ]
     },
     "execution_count": 29,
     "metadata": {},
     "output_type": "execute_result"
    }
   ],
   "source": [
    "test=['a','b','c']\n",
    "test.index('a')\n"
   ]
  },
  {
   "cell_type": "markdown",
   "id": "192fab90",
   "metadata": {},
   "source": [
    "# Function to summarize the text"
   ]
  },
  {
   "cell_type": "code",
   "execution_count": 30,
   "id": "8b62388c",
   "metadata": {},
   "outputs": [],
   "source": [
    "def summarize(text,top_n_words):\n",
    "    original_sentences=[sentence for sentence in nltk.sent_tokenize(text)]\n",
    "    formatted_sentences =[preprocess(original_text) for original_sentence in original_sentences]\n",
    "    #print(formatted_sentences)\n",
    "    words=[word for sentence in formatted_sentences for word in nltk.word_tokenize(sentence)]\n",
    "    #print(words) \n",
    "    freq=nltk.FreqDist(words)\n",
    "    #print(freq)\n",
    "    #return freq\n",
    "    top_n_words=[words[0] for words in freq.most_common(top_n_words)]\n",
    "    #print(top_n_words)\n",
    "    calculate_sent_score(formatted_sentences ,top_n_words)"
   ]
  },
  {
   "cell_type": "code",
   "execution_count": 31,
   "id": "6c900626",
   "metadata": {},
   "outputs": [
    {
     "name": "stdout",
     "output_type": "stream",
     "text": [
      "--------------\n",
      "['people', 'familiar', 'concept', 'artificial', 'intelligence', 'ai', 'illustration', '1,500', 'senior', 'business', 'leaders', 'united', 'states', '2017', 'asked', 'ai', '17', 'percent', 'said', 'familiar', 'it.a', 'number', 'su', 'would', 'affect', 'particular', 'companies', 'understood', 'considerable', 'potential', 'altering', 'business', 'processes', 'clear', 'ai', 'could', 'deployed', 'within', 'organizations', 'despite', 'widespread', 'lack', 'familiarity', 'ai', 'technology', 'transforming', 'every', 'walk', 'life', 'wide-ranging', 'tool', 'enables', 'people', 'rethink', 'integrate', 'information', 'analyze', 'data', 'use', 'resulting', 'insights', 'improve', 'decisionmaking', 'hope', 'comprehensive', 'overview', 'explain', 'ai', 'audience', 'policymakers', 'opinion', 'leaders', 'interested', 'observers', 'demonstrate', 'ai', 'already', 'altering', 'world', 'raising', 'important', 'questions', 'society', 'economy', 'governance', 'paper', 'discuss', 'novel', 'applications', 'finance', 'national', 'security', 'health', 'care', 'criminal', 'justice', 'transportation', 'smart', 'cities', 'address', 'issues', 'data', 'access', 'problems', 'algorithmic', 'bias', 'ai', 'ethics', 'transparency', 'legal', 'liability', 'ai', 'decisions', 'contrast', 'regulatory', 'approaches', 'u.s.', 'european', 'union', 'close', 'making', 'number', 'recommendations', 'getting', 'ai', 'still', 'protecting', 'important', 'human', 'values']\n",
      "ai\n",
      "people\n",
      "familiar\n",
      "business\n",
      "leaders\n",
      "number\n",
      "altering\n",
      "data\n",
      "important\n",
      "concept\n",
      "[5, 0, 1, 9, 10, 21, 30, 57, 80, 2]\n",
      "--------------\n",
      "['people', 'familiar', 'concept', 'artificial', 'intelligence', 'ai', 'illustration', '1,500', 'senior', 'business', 'leaders', 'united', 'states', '2017', 'asked', 'ai', '17', 'percent', 'said', 'familiar', 'it.a', 'number', 'su', 'would', 'affect', 'particular', 'companies', 'understood', 'considerable', 'potential', 'altering', 'business', 'processes', 'clear', 'ai', 'could', 'deployed', 'within', 'organizations', 'despite', 'widespread', 'lack', 'familiarity', 'ai', 'technology', 'transforming', 'every', 'walk', 'life', 'wide-ranging', 'tool', 'enables', 'people', 'rethink', 'integrate', 'information', 'analyze', 'data', 'use', 'resulting', 'insights', 'improve', 'decisionmaking', 'hope', 'comprehensive', 'overview', 'explain', 'ai', 'audience', 'policymakers', 'opinion', 'leaders', 'interested', 'observers', 'demonstrate', 'ai', 'already', 'altering', 'world', 'raising', 'important', 'questions', 'society', 'economy', 'governance', 'paper', 'discuss', 'novel', 'applications', 'finance', 'national', 'security', 'health', 'care', 'criminal', 'justice', 'transportation', 'smart', 'cities', 'address', 'issues', 'data', 'access', 'problems', 'algorithmic', 'bias', 'ai', 'ethics', 'transparency', 'legal', 'liability', 'ai', 'decisions', 'contrast', 'regulatory', 'approaches', 'u.s.', 'european', 'union', 'close', 'making', 'number', 'recommendations', 'getting', 'ai', 'still', 'protecting', 'important', 'human', 'values']\n",
      "ai\n",
      "people\n",
      "familiar\n",
      "business\n",
      "leaders\n",
      "number\n",
      "altering\n",
      "data\n",
      "important\n",
      "concept\n",
      "[5, 0, 1, 9, 10, 21, 30, 57, 80, 2]\n",
      "--------------\n",
      "['people', 'familiar', 'concept', 'artificial', 'intelligence', 'ai', 'illustration', '1,500', 'senior', 'business', 'leaders', 'united', 'states', '2017', 'asked', 'ai', '17', 'percent', 'said', 'familiar', 'it.a', 'number', 'su', 'would', 'affect', 'particular', 'companies', 'understood', 'considerable', 'potential', 'altering', 'business', 'processes', 'clear', 'ai', 'could', 'deployed', 'within', 'organizations', 'despite', 'widespread', 'lack', 'familiarity', 'ai', 'technology', 'transforming', 'every', 'walk', 'life', 'wide-ranging', 'tool', 'enables', 'people', 'rethink', 'integrate', 'information', 'analyze', 'data', 'use', 'resulting', 'insights', 'improve', 'decisionmaking', 'hope', 'comprehensive', 'overview', 'explain', 'ai', 'audience', 'policymakers', 'opinion', 'leaders', 'interested', 'observers', 'demonstrate', 'ai', 'already', 'altering', 'world', 'raising', 'important', 'questions', 'society', 'economy', 'governance', 'paper', 'discuss', 'novel', 'applications', 'finance', 'national', 'security', 'health', 'care', 'criminal', 'justice', 'transportation', 'smart', 'cities', 'address', 'issues', 'data', 'access', 'problems', 'algorithmic', 'bias', 'ai', 'ethics', 'transparency', 'legal', 'liability', 'ai', 'decisions', 'contrast', 'regulatory', 'approaches', 'u.s.', 'european', 'union', 'close', 'making', 'number', 'recommendations', 'getting', 'ai', 'still', 'protecting', 'important', 'human', 'values']\n",
      "ai\n",
      "people\n",
      "familiar\n",
      "business\n",
      "leaders\n",
      "number\n",
      "altering\n",
      "data\n",
      "important\n",
      "concept\n",
      "[5, 0, 1, 9, 10, 21, 30, 57, 80, 2]\n",
      "--------------\n",
      "['people', 'familiar', 'concept', 'artificial', 'intelligence', 'ai', 'illustration', '1,500', 'senior', 'business', 'leaders', 'united', 'states', '2017', 'asked', 'ai', '17', 'percent', 'said', 'familiar', 'it.a', 'number', 'su', 'would', 'affect', 'particular', 'companies', 'understood', 'considerable', 'potential', 'altering', 'business', 'processes', 'clear', 'ai', 'could', 'deployed', 'within', 'organizations', 'despite', 'widespread', 'lack', 'familiarity', 'ai', 'technology', 'transforming', 'every', 'walk', 'life', 'wide-ranging', 'tool', 'enables', 'people', 'rethink', 'integrate', 'information', 'analyze', 'data', 'use', 'resulting', 'insights', 'improve', 'decisionmaking', 'hope', 'comprehensive', 'overview', 'explain', 'ai', 'audience', 'policymakers', 'opinion', 'leaders', 'interested', 'observers', 'demonstrate', 'ai', 'already', 'altering', 'world', 'raising', 'important', 'questions', 'society', 'economy', 'governance', 'paper', 'discuss', 'novel', 'applications', 'finance', 'national', 'security', 'health', 'care', 'criminal', 'justice', 'transportation', 'smart', 'cities', 'address', 'issues', 'data', 'access', 'problems', 'algorithmic', 'bias', 'ai', 'ethics', 'transparency', 'legal', 'liability', 'ai', 'decisions', 'contrast', 'regulatory', 'approaches', 'u.s.', 'european', 'union', 'close', 'making', 'number', 'recommendations', 'getting', 'ai', 'still', 'protecting', 'important', 'human', 'values']\n",
      "ai\n",
      "people\n",
      "familiar\n",
      "business\n",
      "leaders\n",
      "number\n",
      "altering\n",
      "data\n",
      "important\n",
      "concept\n",
      "[5, 0, 1, 9, 10, 21, 30, 57, 80, 2]\n",
      "--------------\n",
      "['people', 'familiar', 'concept', 'artificial', 'intelligence', 'ai', 'illustration', '1,500', 'senior', 'business', 'leaders', 'united', 'states', '2017', 'asked', 'ai', '17', 'percent', 'said', 'familiar', 'it.a', 'number', 'su', 'would', 'affect', 'particular', 'companies', 'understood', 'considerable', 'potential', 'altering', 'business', 'processes', 'clear', 'ai', 'could', 'deployed', 'within', 'organizations', 'despite', 'widespread', 'lack', 'familiarity', 'ai', 'technology', 'transforming', 'every', 'walk', 'life', 'wide-ranging', 'tool', 'enables', 'people', 'rethink', 'integrate', 'information', 'analyze', 'data', 'use', 'resulting', 'insights', 'improve', 'decisionmaking', 'hope', 'comprehensive', 'overview', 'explain', 'ai', 'audience', 'policymakers', 'opinion', 'leaders', 'interested', 'observers', 'demonstrate', 'ai', 'already', 'altering', 'world', 'raising', 'important', 'questions', 'society', 'economy', 'governance', 'paper', 'discuss', 'novel', 'applications', 'finance', 'national', 'security', 'health', 'care', 'criminal', 'justice', 'transportation', 'smart', 'cities', 'address', 'issues', 'data', 'access', 'problems', 'algorithmic', 'bias', 'ai', 'ethics', 'transparency', 'legal', 'liability', 'ai', 'decisions', 'contrast', 'regulatory', 'approaches', 'u.s.', 'european', 'union', 'close', 'making', 'number', 'recommendations', 'getting', 'ai', 'still', 'protecting', 'important', 'human', 'values']\n",
      "ai\n",
      "people\n",
      "familiar\n",
      "business\n",
      "leaders\n",
      "number\n",
      "altering\n",
      "data\n",
      "important\n",
      "concept\n",
      "[5, 0, 1, 9, 10, 21, 30, 57, 80, 2]\n",
      "--------------\n",
      "['people', 'familiar', 'concept', 'artificial', 'intelligence', 'ai', 'illustration', '1,500', 'senior', 'business', 'leaders', 'united', 'states', '2017', 'asked', 'ai', '17', 'percent', 'said', 'familiar', 'it.a', 'number', 'su', 'would', 'affect', 'particular', 'companies', 'understood', 'considerable', 'potential', 'altering', 'business', 'processes', 'clear', 'ai', 'could', 'deployed', 'within', 'organizations', 'despite', 'widespread', 'lack', 'familiarity', 'ai', 'technology', 'transforming', 'every', 'walk', 'life', 'wide-ranging', 'tool', 'enables', 'people', 'rethink', 'integrate', 'information', 'analyze', 'data', 'use', 'resulting', 'insights', 'improve', 'decisionmaking', 'hope', 'comprehensive', 'overview', 'explain', 'ai', 'audience', 'policymakers', 'opinion', 'leaders', 'interested', 'observers', 'demonstrate', 'ai', 'already', 'altering', 'world', 'raising', 'important', 'questions', 'society', 'economy', 'governance', 'paper', 'discuss', 'novel', 'applications', 'finance', 'national', 'security', 'health', 'care', 'criminal', 'justice', 'transportation', 'smart', 'cities', 'address', 'issues', 'data', 'access', 'problems', 'algorithmic', 'bias', 'ai', 'ethics', 'transparency', 'legal', 'liability', 'ai', 'decisions', 'contrast', 'regulatory', 'approaches', 'u.s.', 'european', 'union', 'close', 'making', 'number', 'recommendations', 'getting', 'ai', 'still', 'protecting', 'important', 'human', 'values']\n",
      "ai\n",
      "people\n",
      "familiar\n",
      "business\n",
      "leaders\n",
      "number\n",
      "altering\n",
      "data\n",
      "important\n",
      "concept\n",
      "[5, 0, 1, 9, 10, 21, 30, 57, 80, 2]\n",
      "--------------\n",
      "['people', 'familiar', 'concept', 'artificial', 'intelligence', 'ai', 'illustration', '1,500', 'senior', 'business', 'leaders', 'united', 'states', '2017', 'asked', 'ai', '17', 'percent', 'said', 'familiar', 'it.a', 'number', 'su', 'would', 'affect', 'particular', 'companies', 'understood', 'considerable', 'potential', 'altering', 'business', 'processes', 'clear', 'ai', 'could', 'deployed', 'within', 'organizations', 'despite', 'widespread', 'lack', 'familiarity', 'ai', 'technology', 'transforming', 'every', 'walk', 'life', 'wide-ranging', 'tool', 'enables', 'people', 'rethink', 'integrate', 'information', 'analyze', 'data', 'use', 'resulting', 'insights', 'improve', 'decisionmaking', 'hope', 'comprehensive', 'overview', 'explain', 'ai', 'audience', 'policymakers', 'opinion', 'leaders', 'interested', 'observers', 'demonstrate', 'ai', 'already', 'altering', 'world', 'raising', 'important', 'questions', 'society', 'economy', 'governance', 'paper', 'discuss', 'novel', 'applications', 'finance', 'national', 'security', 'health', 'care', 'criminal', 'justice', 'transportation', 'smart', 'cities', 'address', 'issues', 'data', 'access', 'problems', 'algorithmic', 'bias', 'ai', 'ethics', 'transparency', 'legal', 'liability', 'ai', 'decisions', 'contrast', 'regulatory', 'approaches', 'u.s.', 'european', 'union', 'close', 'making', 'number', 'recommendations', 'getting', 'ai', 'still', 'protecting', 'important', 'human', 'values']\n",
      "ai\n",
      "people\n",
      "familiar\n",
      "business\n",
      "leaders\n",
      "number\n",
      "altering\n",
      "data\n",
      "important\n",
      "concept\n",
      "[5, 0, 1, 9, 10, 21, 30, 57, 80, 2]\n",
      "--------------\n",
      "['people', 'familiar', 'concept', 'artificial', 'intelligence', 'ai', 'illustration', '1,500', 'senior', 'business', 'leaders', 'united', 'states', '2017', 'asked', 'ai', '17', 'percent', 'said', 'familiar', 'it.a', 'number', 'su', 'would', 'affect', 'particular', 'companies', 'understood', 'considerable', 'potential', 'altering', 'business', 'processes', 'clear', 'ai', 'could', 'deployed', 'within', 'organizations', 'despite', 'widespread', 'lack', 'familiarity', 'ai', 'technology', 'transforming', 'every', 'walk', 'life', 'wide-ranging', 'tool', 'enables', 'people', 'rethink', 'integrate', 'information', 'analyze', 'data', 'use', 'resulting', 'insights', 'improve', 'decisionmaking', 'hope', 'comprehensive', 'overview', 'explain', 'ai', 'audience', 'policymakers', 'opinion', 'leaders', 'interested', 'observers', 'demonstrate', 'ai', 'already', 'altering', 'world', 'raising', 'important', 'questions', 'society', 'economy', 'governance', 'paper', 'discuss', 'novel', 'applications', 'finance', 'national', 'security', 'health', 'care', 'criminal', 'justice', 'transportation', 'smart', 'cities', 'address', 'issues', 'data', 'access', 'problems', 'algorithmic', 'bias', 'ai', 'ethics', 'transparency', 'legal', 'liability', 'ai', 'decisions', 'contrast', 'regulatory', 'approaches', 'u.s.', 'european', 'union', 'close', 'making', 'number', 'recommendations', 'getting', 'ai', 'still', 'protecting', 'important', 'human', 'values']\n",
      "ai\n",
      "people\n",
      "familiar\n",
      "business\n",
      "leaders\n",
      "number\n",
      "altering\n",
      "data\n",
      "important\n",
      "concept\n",
      "[5, 0, 1, 9, 10, 21, 30, 57, 80, 2]\n"
     ]
    }
   ],
   "source": [
    " summarize(original_text,10)"
   ]
  },
  {
   "cell_type": "code",
   "execution_count": 15,
   "id": "8d13cda7",
   "metadata": {},
   "outputs": [
    {
     "ename": "IndentationError",
     "evalue": "unexpected indent (Temp/ipykernel_8904/1682860295.py, line 3)",
     "output_type": "error",
     "traceback": [
      "\u001b[1;36m  File \u001b[1;32m\"C:\\Users\\ADMIN\\AppData\\Local\\Temp/ipykernel_8904/1682860295.py\"\u001b[1;36m, line \u001b[1;32m3\u001b[0m\n\u001b[1;33m    freq=nltk.FreqDist(words)\u001b[0m\n\u001b[1;37m    ^\u001b[0m\n\u001b[1;31mIndentationError\u001b[0m\u001b[1;31m:\u001b[0m unexpected indent\n"
     ]
    }
   ],
   "source": []
  },
  {
   "cell_type": "code",
   "execution_count": null,
   "id": "1554612c",
   "metadata": {},
   "outputs": [],
   "source": []
  }
 ],
 "metadata": {
  "kernelspec": {
   "display_name": "Python 3 (ipykernel)",
   "language": "python",
   "name": "python3"
  },
  "language_info": {
   "codemirror_mode": {
    "name": "ipython",
    "version": 3
   },
   "file_extension": ".py",
   "mimetype": "text/x-python",
   "name": "python",
   "nbconvert_exporter": "python",
   "pygments_lexer": "ipython3",
   "version": "3.9.7"
  }
 },
 "nbformat": 4,
 "nbformat_minor": 5
}
